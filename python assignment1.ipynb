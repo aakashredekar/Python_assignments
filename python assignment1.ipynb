{
 "cells": [
  {
   "cell_type": "markdown",
   "id": "c3b1f5ac",
   "metadata": {},
   "source": [
    "Write a program which will find all such numbers which are divisible by 7 but are not a\n",
    "multiple of 5,between 2000 and 3200 (both included). The numbers obtained should be printed\n",
    "in a comma-separated sequence on a single line.\n",
    "\n",
    "Write a Python program to accept the user's first and last name and then getting them\n",
    "printed in the the reverse order with a space between first name and last name.\n",
    "\n",
    "\n",
    "Write a Python program to find the volume of a sphere with diameter 12 cm.\n",
    "Formula: V=4/3 * π * r 3\n",
    "NOTE:ThesolutionsharedthroughGithubshouldcontainthesource codeused and the\n",
    "screenshotoftheoutput.\n",
    "\n",
    "\n"
   ]
  },
  {
   "cell_type": "code",
   "execution_count": 1,
   "id": "f903860b",
   "metadata": {},
   "outputs": [
    {
     "name": "stdout",
     "output_type": "stream",
     "text": [
      "2030,2065,2100,2135,2170,2205,2240,2275,2310,2345,2380,2415,2450,2485,2520,2555,2590,2625,2660,2695,2730,2765,2800,2835,2870,2905,2940,2975,3010,3045,3080,3115,3150,3185,"
     ]
    }
   ],
   "source": [
    "for i  in range(2000,3201):\n",
    "    if i%7==0 and i%5==0:\n",
    "        print(i,end=\",\")"
   ]
  },
  {
   "cell_type": "code",
   "execution_count": 2,
   "id": "8b98d2ae",
   "metadata": {},
   "outputs": [
    {
     "name": "stdout",
     "output_type": "stream",
     "text": [
      "2030,2065,2100,2135,2170,2205,2240,2275,2310,2345,2380,2415,2450,2485,2520,2555,2590,2625,2660,2695,2730,2765,2800,2835,2870,2905,2940,2975,3010,3045,3080,3115,3150,3185\n"
     ]
    }
   ],
   "source": [
    "n=[]\n",
    "for i  in range(2000,3201):\n",
    "    if i%7==0 and i%5==0:\n",
    "        n.append (str(i))\n",
    "print(','.join(n))\n",
    "        #print(i,end=\",\")"
   ]
  },
  {
   "cell_type": "code",
   "execution_count": 3,
   "id": "7262dceb",
   "metadata": {},
   "outputs": [
    {
     "name": "stdout",
     "output_type": "stream",
     "text": [
      "enter your first name : AAKASH\n",
      "enter your last name : REDEKAR\n",
      "REDEKAR   AAKASH\n"
     ]
    }
   ],
   "source": [
    "fname = input(\"enter your first name : \")\n",
    "lname = input(\"enter your last name : \")\n",
    "print(lname,\" \", fname)"
   ]
  },
  {
   "cell_type": "code",
   "execution_count": 4,
   "id": "9c14e7c6",
   "metadata": {},
   "outputs": [],
   "source": [
    "pi = 3.14\n",
    "d=12\n",
    "r=d/2\n",
    "v=((4/3) * (3.14) * ((r)**3))"
   ]
  },
  {
   "cell_type": "code",
   "execution_count": 5,
   "id": "2c7f3835",
   "metadata": {},
   "outputs": [
    {
     "name": "stdout",
     "output_type": "stream",
     "text": [
      "The volume of a sphere is : 904.3199999999999\n"
     ]
    }
   ],
   "source": [
    "print(\"The volume of a sphere is :\" , v)"
   ]
  },
  {
   "cell_type": "code",
   "execution_count": null,
   "id": "babd54b8",
   "metadata": {},
   "outputs": [],
   "source": []
  }
 ],
 "metadata": {
  "kernelspec": {
   "display_name": "Python 3",
   "language": "python",
   "name": "python3"
  },
  "language_info": {
   "codemirror_mode": {
    "name": "ipython",
    "version": 3
   },
   "file_extension": ".py",
   "mimetype": "text/x-python",
   "name": "python",
   "nbconvert_exporter": "python",
   "pygments_lexer": "ipython3",
   "version": "3.8.8"
  }
 },
 "nbformat": 4,
 "nbformat_minor": 5
}
